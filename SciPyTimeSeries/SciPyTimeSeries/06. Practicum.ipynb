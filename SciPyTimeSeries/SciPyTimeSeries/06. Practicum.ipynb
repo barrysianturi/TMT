{
 "cells": [
  {
   "cell_type": "code",
   "execution_count": 3,
   "metadata": {},
   "outputs": [],
   "source": [
    "%matplotlib inline \n",
    "import matplotlib.pylab\n",
    "import numpy as np\n",
    "import pandas as pd\n",
    "\n",
    "import pandas_datareader.data as web\n",
    "start = pd.Timestamp('2010-1-1')\n",
    "end = pd.Timestamp('2013-1-27')\n",
    "f = web.DataReader(\"F\", 'yahoo', start, end)"
   ]
  },
  {
   "cell_type": "markdown",
   "metadata": {},
   "source": [
    "### Let's find some time series data\n",
    "hint: http://pandas.pydata.org/pandas-docs/stable/remote_data.html"
   ]
  },
  {
   "cell_type": "code",
   "execution_count": 9,
   "metadata": {},
   "outputs": [],
   "source": [
    "start = pd.Timestamp('2022-1-1')\n",
    "end = pd.Timestamp('2022-8-24')\n",
    "f = web.DataReader(\"F\", 'yahoo', start, end)"
   ]
  },
  {
   "cell_type": "code",
   "execution_count": 10,
   "metadata": {},
   "outputs": [
    {
     "data": {
      "text/html": [
       "<div>\n",
       "<style scoped>\n",
       "    .dataframe tbody tr th:only-of-type {\n",
       "        vertical-align: middle;\n",
       "    }\n",
       "\n",
       "    .dataframe tbody tr th {\n",
       "        vertical-align: top;\n",
       "    }\n",
       "\n",
       "    .dataframe thead th {\n",
       "        text-align: right;\n",
       "    }\n",
       "</style>\n",
       "<table border=\"1\" class=\"dataframe\">\n",
       "  <thead>\n",
       "    <tr style=\"text-align: right;\">\n",
       "      <th></th>\n",
       "      <th>High</th>\n",
       "      <th>Low</th>\n",
       "      <th>Open</th>\n",
       "      <th>Close</th>\n",
       "      <th>Volume</th>\n",
       "      <th>Adj Close</th>\n",
       "    </tr>\n",
       "    <tr>\n",
       "      <th>Date</th>\n",
       "      <th></th>\n",
       "      <th></th>\n",
       "      <th></th>\n",
       "      <th></th>\n",
       "      <th></th>\n",
       "      <th></th>\n",
       "    </tr>\n",
       "  </thead>\n",
       "  <tbody>\n",
       "    <tr>\n",
       "      <th>2021-12-31</th>\n",
       "      <td>21.010000</td>\n",
       "      <td>20.459999</td>\n",
       "      <td>20.459999</td>\n",
       "      <td>20.770000</td>\n",
       "      <td>51899600.0</td>\n",
       "      <td>20.324480</td>\n",
       "    </tr>\n",
       "    <tr>\n",
       "      <th>2022-01-03</th>\n",
       "      <td>21.879999</td>\n",
       "      <td>21.059999</td>\n",
       "      <td>21.270000</td>\n",
       "      <td>21.770000</td>\n",
       "      <td>110449000.0</td>\n",
       "      <td>21.303030</td>\n",
       "    </tr>\n",
       "    <tr>\n",
       "      <th>2022-01-04</th>\n",
       "      <td>24.559999</td>\n",
       "      <td>22.420000</td>\n",
       "      <td>22.520000</td>\n",
       "      <td>24.309999</td>\n",
       "      <td>311645200.0</td>\n",
       "      <td>23.788548</td>\n",
       "    </tr>\n",
       "    <tr>\n",
       "      <th>2022-01-05</th>\n",
       "      <td>24.950001</td>\n",
       "      <td>23.469999</td>\n",
       "      <td>24.059999</td>\n",
       "      <td>23.660000</td>\n",
       "      <td>253540000.0</td>\n",
       "      <td>23.152489</td>\n",
       "    </tr>\n",
       "    <tr>\n",
       "      <th>2022-01-06</th>\n",
       "      <td>24.620001</td>\n",
       "      <td>23.360001</td>\n",
       "      <td>24.090000</td>\n",
       "      <td>24.459999</td>\n",
       "      <td>155058800.0</td>\n",
       "      <td>23.935328</td>\n",
       "    </tr>\n",
       "  </tbody>\n",
       "</table>\n",
       "</div>"
      ],
      "text/plain": [
       "                 High        Low       Open      Close       Volume  Adj Close\n",
       "Date                                                                          \n",
       "2021-12-31  21.010000  20.459999  20.459999  20.770000   51899600.0  20.324480\n",
       "2022-01-03  21.879999  21.059999  21.270000  21.770000  110449000.0  21.303030\n",
       "2022-01-04  24.559999  22.420000  22.520000  24.309999  311645200.0  23.788548\n",
       "2022-01-05  24.950001  23.469999  24.059999  23.660000  253540000.0  23.152489\n",
       "2022-01-06  24.620001  23.360001  24.090000  24.459999  155058800.0  23.935328"
      ]
     },
     "execution_count": 10,
     "metadata": {},
     "output_type": "execute_result"
    }
   ],
   "source": [
    "f.head()"
   ]
  },
  {
   "cell_type": "markdown",
   "metadata": {},
   "source": [
    "### Plot the high and low values of Yahoo's stock for July and August 2012"
   ]
  },
  {
   "cell_type": "code",
   "execution_count": 7,
   "metadata": {},
   "outputs": [],
   "source": [
    "# %load snippets/prac1.py"
   ]
  },
  {
   "cell_type": "markdown",
   "metadata": {},
   "source": [
    "### Is the variance of the trading volume relatively stable over time?"
   ]
  },
  {
   "cell_type": "code",
   "execution_count": 8,
   "metadata": {},
   "outputs": [],
   "source": [
    "# %load snippets/prac2.py"
   ]
  },
  {
   "cell_type": "markdown",
   "metadata": {},
   "source": [
    "### Is the expanding window variance of the trading volume relatively stable over time?"
   ]
  },
  {
   "cell_type": "code",
   "execution_count": null,
   "metadata": {},
   "outputs": [],
   "source": [
    "# %load snippets/prac3.py"
   ]
  },
  {
   "cell_type": "markdown",
   "metadata": {},
   "source": [
    "### On how many days did the stock close higher than it opened?\n",
    "\n",
    "Hint: check out .tshift() in the pandas docs\n",
    "http://pandas.pydata.org/pandas-docs/stable/timeseries.html#shifting-lagging"
   ]
  },
  {
   "cell_type": "code",
   "execution_count": null,
   "metadata": {},
   "outputs": [],
   "source": [
    "# %load snippets/prac4.py"
   ]
  },
  {
   "cell_type": "markdown",
   "metadata": {},
   "source": [
    "### And did the 'up' days become more or less frequent over time?"
   ]
  },
  {
   "cell_type": "code",
   "execution_count": null,
   "metadata": {},
   "outputs": [],
   "source": [
    "# %load snippets/prac5.py"
   ]
  },
  {
   "cell_type": "markdown",
   "metadata": {},
   "source": [
    "### Compute and plot the mean monthly High value of the stock"
   ]
  },
  {
   "cell_type": "code",
   "execution_count": null,
   "metadata": {},
   "outputs": [],
   "source": [
    "# %load snippets/prac6.py"
   ]
  },
  {
   "cell_type": "markdown",
   "metadata": {},
   "source": [
    "### Explore the variance of the differenced volume"
   ]
  },
  {
   "cell_type": "code",
   "execution_count": 23,
   "metadata": {},
   "outputs": [],
   "source": [
    "# %load snippets/prac7.py"
   ]
  },
  {
   "cell_type": "markdown",
   "metadata": {},
   "source": [
    "### Does the lagged time series correlate with itself?"
   ]
  },
  {
   "cell_type": "code",
   "execution_count": 28,
   "metadata": {},
   "outputs": [
    {
     "data": {
      "text/html": [
       "<div>\n",
       "<table border=\"1\" class=\"dataframe\">\n",
       "  <thead>\n",
       "    <tr style=\"text-align: right;\">\n",
       "      <th></th>\n",
       "      <th>lagged</th>\n",
       "      <th>real</th>\n",
       "    </tr>\n",
       "  </thead>\n",
       "  <tbody>\n",
       "    <tr>\n",
       "      <th>lagged</th>\n",
       "      <td>1.000000</td>\n",
       "      <td>0.656441</td>\n",
       "    </tr>\n",
       "    <tr>\n",
       "      <th>real</th>\n",
       "      <td>0.656441</td>\n",
       "      <td>1.000000</td>\n",
       "    </tr>\n",
       "  </tbody>\n",
       "</table>\n",
       "</div>"
      ],
      "text/plain": [
       "          lagged      real\n",
       "lagged  1.000000  0.656441\n",
       "real    0.656441  1.000000"
      ]
     },
     "execution_count": 28,
     "metadata": {},
     "output_type": "execute_result"
    }
   ],
   "source": [
    "# %load snippets/prac8.py\n",
    "# What's the best predictor of tomorrow's stock price?"
   ]
  },
  {
   "cell_type": "code",
   "execution_count": null,
   "metadata": {
    "collapsed": true
   },
   "outputs": [],
   "source": []
  }
 ],
 "metadata": {
  "kernelspec": {
   "display_name": "Python 3",
   "language": "python",
   "name": "python3"
  },
  "language_info": {
   "codemirror_mode": {
    "name": "ipython",
    "version": 3
   },
   "file_extension": ".py",
   "mimetype": "text/x-python",
   "name": "python",
   "nbconvert_exporter": "python",
   "pygments_lexer": "ipython3",
   "version": "3.8.8"
  },
  "widgets": {
   "state": {},
   "version": "1.1.1"
  }
 },
 "nbformat": 4,
 "nbformat_minor": 1
}
