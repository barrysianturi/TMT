{
 "cells": [
  {
   "cell_type": "code",
   "execution_count": 1,
   "id": "a58fde74",
   "metadata": {},
   "outputs": [],
   "source": [
    "import pandas as pd\n",
    "import numpy as np\n",
    "\n",
    "import matplotlib.pyplot as plt\n",
    "%matplotlib inline\n",
    "import matplotlib as mpl\n",
    "mpl.rcParams['figure.figsize'] = (16.0,9.0)"
   ]
  },
  {
   "cell_type": "code",
   "execution_count": 2,
   "id": "ed09e8c3",
   "metadata": {},
   "outputs": [
    {
     "name": "stdout",
     "output_type": "stream",
     "text": [
      " 1950    1  -0.60310E-01\n",
      "\n",
      " 1950    2   0.62681E+00\n",
      "\n",
      " 1950    3  -0.81275E-02\n",
      "\n",
      " 1950    4   0.55510E+00\n",
      "\n",
      " 1950    5   0.71577E-01\n",
      "\n",
      " 1950    6   0.53857E+00\n",
      "\n",
      " 1950    7  -0.80248E+00\n",
      "\n",
      " 1950    8  -0.85101E+00\n",
      "\n",
      " 1950    9   0.35797E+00\n",
      "\n",
      " 1950   10  -0.37890E+00\n",
      "\n",
      " 1950   11  -0.51511E+00\n",
      "\n",
      " 1950   12  -0.19281E+01\n",
      "\n",
      " 1951    1  -0.84969E-01\n",
      "\n",
      " 1951    2  -0.39993E+00\n",
      "\n",
      " 1951    3  -0.19341E+01\n",
      "\n",
      " 1951    4  -0.77648E+00\n",
      "\n",
      " 1951    5  -0.86278E+00\n",
      "\n",
      " 1951    6  -0.91786E+00\n",
      "\n",
      " 1951    7   0.90023E-01\n",
      "\n",
      " 1951    8  -0.37741E+00\n",
      "\n"
     ]
    }
   ],
   "source": [
    "with open('data/ao_monthly.txt') as f:\n",
    "    for x in range(20):\n",
    "        print(next(f))"
   ]
  },
  {
   "cell_type": "code",
   "execution_count": 3,
   "id": "46e2e1d7",
   "metadata": {},
   "outputs": [
    {
     "data": {
      "text/html": [
       "<div>\n",
       "<style scoped>\n",
       "    .dataframe tbody tr th:only-of-type {\n",
       "        vertical-align: middle;\n",
       "    }\n",
       "\n",
       "    .dataframe tbody tr th {\n",
       "        vertical-align: top;\n",
       "    }\n",
       "\n",
       "    .dataframe thead th {\n",
       "        text-align: right;\n",
       "    }\n",
       "</style>\n",
       "<table border=\"1\" class=\"dataframe\">\n",
       "  <thead>\n",
       "    <tr style=\"text-align: right;\">\n",
       "      <th></th>\n",
       "      <th>0</th>\n",
       "      <th>1</th>\n",
       "      <th>2</th>\n",
       "    </tr>\n",
       "  </thead>\n",
       "  <tbody>\n",
       "    <tr>\n",
       "      <th>0</th>\n",
       "      <td>1950</td>\n",
       "      <td>1</td>\n",
       "      <td>-0.060310</td>\n",
       "    </tr>\n",
       "    <tr>\n",
       "      <th>1</th>\n",
       "      <td>1950</td>\n",
       "      <td>2</td>\n",
       "      <td>0.626810</td>\n",
       "    </tr>\n",
       "    <tr>\n",
       "      <th>2</th>\n",
       "      <td>1950</td>\n",
       "      <td>3</td>\n",
       "      <td>-0.008127</td>\n",
       "    </tr>\n",
       "    <tr>\n",
       "      <th>3</th>\n",
       "      <td>1950</td>\n",
       "      <td>4</td>\n",
       "      <td>0.555100</td>\n",
       "    </tr>\n",
       "    <tr>\n",
       "      <th>4</th>\n",
       "      <td>1950</td>\n",
       "      <td>5</td>\n",
       "      <td>0.071577</td>\n",
       "    </tr>\n",
       "    <tr>\n",
       "      <th>...</th>\n",
       "      <td>...</td>\n",
       "      <td>...</td>\n",
       "      <td>...</td>\n",
       "    </tr>\n",
       "    <tr>\n",
       "      <th>793</th>\n",
       "      <td>2016</td>\n",
       "      <td>2</td>\n",
       "      <td>-0.023521</td>\n",
       "    </tr>\n",
       "    <tr>\n",
       "      <th>794</th>\n",
       "      <td>2016</td>\n",
       "      <td>3</td>\n",
       "      <td>0.280240</td>\n",
       "    </tr>\n",
       "    <tr>\n",
       "      <th>795</th>\n",
       "      <td>2016</td>\n",
       "      <td>4</td>\n",
       "      <td>-1.051100</td>\n",
       "    </tr>\n",
       "    <tr>\n",
       "      <th>796</th>\n",
       "      <td>2016</td>\n",
       "      <td>5</td>\n",
       "      <td>-0.035739</td>\n",
       "    </tr>\n",
       "    <tr>\n",
       "      <th>797</th>\n",
       "      <td>2016</td>\n",
       "      <td>6</td>\n",
       "      <td>0.312880</td>\n",
       "    </tr>\n",
       "  </tbody>\n",
       "</table>\n",
       "<p>798 rows × 3 columns</p>\n",
       "</div>"
      ],
      "text/plain": [
       "        0  1         2\n",
       "0    1950  1 -0.060310\n",
       "1    1950  2  0.626810\n",
       "2    1950  3 -0.008127\n",
       "3    1950  4  0.555100\n",
       "4    1950  5  0.071577\n",
       "..    ... ..       ...\n",
       "793  2016  2 -0.023521\n",
       "794  2016  3  0.280240\n",
       "795  2016  4 -1.051100\n",
       "796  2016  5 -0.035739\n",
       "797  2016  6  0.312880\n",
       "\n",
       "[798 rows x 3 columns]"
      ]
     },
     "execution_count": 3,
     "metadata": {},
     "output_type": "execute_result"
    }
   ],
   "source": [
    "df = pd.read_fwf('data/ao_monthly.txt',header=None)\n",
    "df"
   ]
  },
  {
   "cell_type": "code",
   "execution_count": 4,
   "id": "7ada5e73",
   "metadata": {},
   "outputs": [
    {
     "data": {
      "text/html": [
       "<div>\n",
       "<style scoped>\n",
       "    .dataframe tbody tr th:only-of-type {\n",
       "        vertical-align: middle;\n",
       "    }\n",
       "\n",
       "    .dataframe tbody tr th {\n",
       "        vertical-align: top;\n",
       "    }\n",
       "\n",
       "    .dataframe thead th {\n",
       "        text-align: right;\n",
       "    }\n",
       "</style>\n",
       "<table border=\"1\" class=\"dataframe\">\n",
       "  <thead>\n",
       "    <tr style=\"text-align: right;\">\n",
       "      <th></th>\n",
       "      <th>0_1</th>\n",
       "      <th>2</th>\n",
       "    </tr>\n",
       "  </thead>\n",
       "  <tbody>\n",
       "    <tr>\n",
       "      <th>0</th>\n",
       "      <td>1950-01-01</td>\n",
       "      <td>-0.060310</td>\n",
       "    </tr>\n",
       "    <tr>\n",
       "      <th>1</th>\n",
       "      <td>1950-02-01</td>\n",
       "      <td>0.626810</td>\n",
       "    </tr>\n",
       "    <tr>\n",
       "      <th>2</th>\n",
       "      <td>1950-03-01</td>\n",
       "      <td>-0.008127</td>\n",
       "    </tr>\n",
       "    <tr>\n",
       "      <th>3</th>\n",
       "      <td>1950-04-01</td>\n",
       "      <td>0.555100</td>\n",
       "    </tr>\n",
       "    <tr>\n",
       "      <th>4</th>\n",
       "      <td>1950-05-01</td>\n",
       "      <td>0.071577</td>\n",
       "    </tr>\n",
       "    <tr>\n",
       "      <th>...</th>\n",
       "      <td>...</td>\n",
       "      <td>...</td>\n",
       "    </tr>\n",
       "    <tr>\n",
       "      <th>793</th>\n",
       "      <td>2016-02-01</td>\n",
       "      <td>-0.023521</td>\n",
       "    </tr>\n",
       "    <tr>\n",
       "      <th>794</th>\n",
       "      <td>2016-03-01</td>\n",
       "      <td>0.280240</td>\n",
       "    </tr>\n",
       "    <tr>\n",
       "      <th>795</th>\n",
       "      <td>2016-04-01</td>\n",
       "      <td>-1.051100</td>\n",
       "    </tr>\n",
       "    <tr>\n",
       "      <th>796</th>\n",
       "      <td>2016-05-01</td>\n",
       "      <td>-0.035739</td>\n",
       "    </tr>\n",
       "    <tr>\n",
       "      <th>797</th>\n",
       "      <td>2016-06-01</td>\n",
       "      <td>0.312880</td>\n",
       "    </tr>\n",
       "  </tbody>\n",
       "</table>\n",
       "<p>798 rows × 2 columns</p>\n",
       "</div>"
      ],
      "text/plain": [
       "           0_1         2\n",
       "0   1950-01-01 -0.060310\n",
       "1   1950-02-01  0.626810\n",
       "2   1950-03-01 -0.008127\n",
       "3   1950-04-01  0.555100\n",
       "4   1950-05-01  0.071577\n",
       "..         ...       ...\n",
       "793 2016-02-01 -0.023521\n",
       "794 2016-03-01  0.280240\n",
       "795 2016-04-01 -1.051100\n",
       "796 2016-05-01 -0.035739\n",
       "797 2016-06-01  0.312880\n",
       "\n",
       "[798 rows x 2 columns]"
      ]
     },
     "execution_count": 4,
     "metadata": {},
     "output_type": "execute_result"
    }
   ],
   "source": [
    "df = pd.read_fwf('data/ao_monthly.txt',header=None,parse_dates=[[0,1]])\n",
    "df"
   ]
  },
  {
   "cell_type": "code",
   "execution_count": 5,
   "id": "f8315c43",
   "metadata": {},
   "outputs": [],
   "source": [
    "df.columns = ['Month','Value']\n",
    "df = df.set_index('Month')"
   ]
  },
  {
   "cell_type": "code",
   "execution_count": 6,
   "id": "474626ef",
   "metadata": {},
   "outputs": [
    {
     "data": {
      "text/html": [
       "<div>\n",
       "<style scoped>\n",
       "    .dataframe tbody tr th:only-of-type {\n",
       "        vertical-align: middle;\n",
       "    }\n",
       "\n",
       "    .dataframe tbody tr th {\n",
       "        vertical-align: top;\n",
       "    }\n",
       "\n",
       "    .dataframe thead th {\n",
       "        text-align: right;\n",
       "    }\n",
       "</style>\n",
       "<table border=\"1\" class=\"dataframe\">\n",
       "  <thead>\n",
       "    <tr style=\"text-align: right;\">\n",
       "      <th></th>\n",
       "      <th>Value</th>\n",
       "    </tr>\n",
       "    <tr>\n",
       "      <th>Month</th>\n",
       "      <th></th>\n",
       "    </tr>\n",
       "  </thead>\n",
       "  <tbody>\n",
       "    <tr>\n",
       "      <th>1950-01-01</th>\n",
       "      <td>-0.060310</td>\n",
       "    </tr>\n",
       "    <tr>\n",
       "      <th>1950-02-01</th>\n",
       "      <td>0.626810</td>\n",
       "    </tr>\n",
       "    <tr>\n",
       "      <th>1950-03-01</th>\n",
       "      <td>-0.008127</td>\n",
       "    </tr>\n",
       "    <tr>\n",
       "      <th>1950-04-01</th>\n",
       "      <td>0.555100</td>\n",
       "    </tr>\n",
       "    <tr>\n",
       "      <th>1950-05-01</th>\n",
       "      <td>0.071577</td>\n",
       "    </tr>\n",
       "    <tr>\n",
       "      <th>1950-06-01</th>\n",
       "      <td>0.538570</td>\n",
       "    </tr>\n",
       "    <tr>\n",
       "      <th>1950-07-01</th>\n",
       "      <td>-0.802480</td>\n",
       "    </tr>\n",
       "    <tr>\n",
       "      <th>1950-08-01</th>\n",
       "      <td>-0.851010</td>\n",
       "    </tr>\n",
       "    <tr>\n",
       "      <th>1950-09-01</th>\n",
       "      <td>0.357970</td>\n",
       "    </tr>\n",
       "    <tr>\n",
       "      <th>1950-10-01</th>\n",
       "      <td>-0.378900</td>\n",
       "    </tr>\n",
       "  </tbody>\n",
       "</table>\n",
       "</div>"
      ],
      "text/plain": [
       "               Value\n",
       "Month               \n",
       "1950-01-01 -0.060310\n",
       "1950-02-01  0.626810\n",
       "1950-03-01 -0.008127\n",
       "1950-04-01  0.555100\n",
       "1950-05-01  0.071577\n",
       "1950-06-01  0.538570\n",
       "1950-07-01 -0.802480\n",
       "1950-08-01 -0.851010\n",
       "1950-09-01  0.357970\n",
       "1950-10-01 -0.378900"
      ]
     },
     "execution_count": 6,
     "metadata": {},
     "output_type": "execute_result"
    }
   ],
   "source": [
    "df.head(10)"
   ]
  },
  {
   "cell_type": "code",
   "execution_count": 7,
   "id": "37d388f3",
   "metadata": {},
   "outputs": [
    {
     "data": {
      "text/plain": [
       "Timestamp('1950-01-01 00:00:00')"
      ]
     },
     "execution_count": 7,
     "metadata": {},
     "output_type": "execute_result"
    }
   ],
   "source": [
    "min(df.index)"
   ]
  },
  {
   "cell_type": "code",
   "execution_count": 8,
   "id": "c5cf4e4c",
   "metadata": {},
   "outputs": [
    {
     "data": {
      "text/plain": [
       "Timestamp('2016-06-01 00:00:00')"
      ]
     },
     "execution_count": 8,
     "metadata": {},
     "output_type": "execute_result"
    }
   ],
   "source": [
    "max(df.index)"
   ]
  },
  {
   "cell_type": "code",
   "execution_count": 9,
   "id": "4a1a9f7c",
   "metadata": {
    "scrolled": true
   },
   "outputs": [
    {
     "data": {
      "text/html": [
       "<div>\n",
       "<style scoped>\n",
       "    .dataframe tbody tr th:only-of-type {\n",
       "        vertical-align: middle;\n",
       "    }\n",
       "\n",
       "    .dataframe tbody tr th {\n",
       "        vertical-align: top;\n",
       "    }\n",
       "\n",
       "    .dataframe thead th {\n",
       "        text-align: right;\n",
       "    }\n",
       "</style>\n",
       "<table border=\"1\" class=\"dataframe\">\n",
       "  <thead>\n",
       "    <tr style=\"text-align: right;\">\n",
       "      <th></th>\n",
       "      <th>year</th>\n",
       "      <th>month</th>\n",
       "      <th>day</th>\n",
       "      <th>hour</th>\n",
       "    </tr>\n",
       "  </thead>\n",
       "  <tbody>\n",
       "    <tr>\n",
       "      <th>0</th>\n",
       "      <td>2022</td>\n",
       "      <td>2</td>\n",
       "      <td>1</td>\n",
       "      <td>14</td>\n",
       "    </tr>\n",
       "    <tr>\n",
       "      <th>1</th>\n",
       "      <td>2021</td>\n",
       "      <td>3</td>\n",
       "      <td>2</td>\n",
       "      <td>15</td>\n",
       "    </tr>\n",
       "  </tbody>\n",
       "</table>\n",
       "</div>"
      ],
      "text/plain": [
       "   year  month  day  hour\n",
       "0  2022      2    1    14\n",
       "1  2021      3    2    15"
      ]
     },
     "execution_count": 9,
     "metadata": {},
     "output_type": "execute_result"
    }
   ],
   "source": [
    "df = pd.DataFrame({'year':[2022,2021],'month':[2,3],'day':[1,2],'hour':[14,15]})\n",
    "df"
   ]
  },
  {
   "cell_type": "markdown",
   "id": "f749bcef",
   "metadata": {},
   "source": [
    "# Resampling"
   ]
  },
  {
   "cell_type": "code",
   "execution_count": 12,
   "id": "3de9983d",
   "metadata": {},
   "outputs": [
    {
     "name": "stderr",
     "output_type": "stream",
     "text": [
      "C:\\Users\\barry\\anaconda3\\lib\\site-packages\\IPython\\core\\interactiveshell.py:3437: UserWarning: Parsing '24/08/2022' in DD/MM/YYYY format. Provide format or specify infer_datetime_format=True for consistent parsing.\n",
      "  exec(code_obj, self.user_global_ns, self.user_ns)\n"
     ]
    },
    {
     "data": {
      "text/plain": [
       "2022-08-24 00:00:00   -0.599637\n",
       "2022-08-24 01:00:00   -1.649656\n",
       "2022-08-24 02:00:00    1.730677\n",
       "2022-08-24 03:00:00   -0.100109\n",
       "2022-08-24 04:00:00   -0.803494\n",
       "Freq: H, dtype: float64"
      ]
     },
     "execution_count": 12,
     "metadata": {},
     "output_type": "execute_result"
    }
   ],
   "source": [
    "rng = pd.date_range('24/08/2022',periods=72,freq='H')\n",
    "ts_pd = pd.Series(np.random.randn(len(rng)),index=rng)\n",
    "ts_pd.head()"
   ]
  },
  {
   "cell_type": "code",
   "execution_count": 17,
   "id": "b35005e7",
   "metadata": {},
   "outputs": [
    {
     "data": {
      "text/plain": [
       "2022-08-24 00:00:00   -0.599637\n",
       "2022-08-24 00:45:00   -1.649656\n",
       "2022-08-24 01:30:00    1.730677\n",
       "2022-08-24 02:15:00   -0.100109\n",
       "2022-08-24 03:00:00   -0.100109\n",
       "2022-08-24 03:45:00   -0.803494\n",
       "2022-08-24 04:30:00    0.375593\n",
       "2022-08-24 05:15:00    0.107241\n",
       "2022-08-24 06:00:00    0.107241\n",
       "2022-08-24 06:45:00   -0.103526\n",
       "Freq: 45T, dtype: float64"
      ]
     },
     "execution_count": 17,
     "metadata": {},
     "output_type": "execute_result"
    }
   ],
   "source": [
    "#backfill is a lookahead\n",
    "ts_pd.asfreq('45Min',method='bfill').head(10)"
   ]
  },
  {
   "cell_type": "code",
   "execution_count": 18,
   "id": "f98df826",
   "metadata": {},
   "outputs": [
    {
     "data": {
      "text/plain": [
       "2022-08-24 00:00:00   -0.599637\n",
       "2022-08-24 00:45:00   -0.599637\n",
       "2022-08-24 01:30:00   -1.649656\n",
       "2022-08-24 02:15:00    1.730677\n",
       "2022-08-24 03:00:00   -0.100109\n",
       "2022-08-24 03:45:00   -0.100109\n",
       "2022-08-24 04:30:00   -0.803494\n",
       "2022-08-24 05:15:00    0.375593\n",
       "2022-08-24 06:00:00    0.107241\n",
       "2022-08-24 06:45:00    0.107241\n",
       "Freq: 45T, dtype: float64"
      ]
     },
     "execution_count": 18,
     "metadata": {},
     "output_type": "execute_result"
    }
   ],
   "source": [
    "#backfill is a lookahead\n",
    "ts_pd.asfreq('45Min',method='ffill').head(10)"
   ]
  },
  {
   "cell_type": "code",
   "execution_count": 21,
   "id": "34689c86",
   "metadata": {},
   "outputs": [
    {
     "data": {
      "text/plain": [
       "2022-08-24 00:00:00   -0.599637\n",
       "2022-08-24 00:45:00    0.000000\n",
       "2022-08-24 01:30:00    0.000000\n",
       "2022-08-24 02:15:00    0.000000\n",
       "2022-08-24 03:00:00   -0.100109\n",
       "2022-08-24 03:45:00    0.000000\n",
       "2022-08-24 04:30:00    0.000000\n",
       "2022-08-24 05:15:00    0.000000\n",
       "2022-08-24 06:00:00    0.107241\n",
       "2022-08-24 06:45:00    0.000000\n",
       "Freq: 45T, dtype: float64"
      ]
     },
     "execution_count": 21,
     "metadata": {},
     "output_type": "execute_result"
    }
   ],
   "source": [
    "#backfill is a lookahead\n",
    "ts_pd.asfreq('45Min',method=None).fillna(0).head(10)"
   ]
  },
  {
   "cell_type": "code",
   "execution_count": 51,
   "id": "5a98955c",
   "metadata": {},
   "outputs": [
    {
     "data": {
      "text/plain": [
       "2022-08-24 00:00:00   -0.599637\n",
       "2022-08-24 05:00:00    0.375593\n",
       "2022-08-24 10:00:00   -0.280018\n",
       "2022-08-24 15:00:00    0.610058\n",
       "2022-08-24 20:00:00   -0.235501\n",
       "2022-08-25 01:00:00   -1.458748\n",
       "2022-08-25 06:00:00   -0.937361\n",
       "2022-08-25 11:00:00   -0.415432\n",
       "2022-08-25 16:00:00    2.499653\n",
       "2022-08-25 21:00:00    0.426921\n",
       "2022-08-26 02:00:00    1.351131\n",
       "2022-08-26 07:00:00   -0.060662\n",
       "2022-08-26 12:00:00   -0.483816\n",
       "2022-08-26 17:00:00    0.790815\n",
       "2022-08-26 22:00:00   -0.205722\n",
       "Freq: 5H, dtype: float64"
      ]
     },
     "execution_count": 51,
     "metadata": {},
     "output_type": "execute_result"
    }
   ],
   "source": [
    "#backfill is a lookahead\n",
    "ts_pd.asfreq('5H',method='ffill')"
   ]
  },
  {
   "cell_type": "code",
   "execution_count": 50,
   "id": "c1689bde",
   "metadata": {},
   "outputs": [
    {
     "data": {
      "text/plain": [
       "2022-08-24   -0.071827\n",
       "2022-08-25    0.153178\n",
       "2022-08-26    0.075319\n",
       "Freq: D, dtype: float64"
      ]
     },
     "execution_count": 50,
     "metadata": {},
     "output_type": "execute_result"
    }
   ],
   "source": [
    "ts_pd.resample('D').mean()"
   ]
  },
  {
   "cell_type": "code",
   "execution_count": 37,
   "id": "d5dd655f",
   "metadata": {},
   "outputs": [
    {
     "data": {
      "text/plain": [
       "2022-08-24    1.004698\n",
       "2022-08-25    1.048012\n",
       "2022-08-26    0.916781\n",
       "Freq: D, dtype: float64"
      ]
     },
     "execution_count": 37,
     "metadata": {},
     "output_type": "execute_result"
    }
   ],
   "source": [
    "ts_pd.resample('D').var()"
   ]
  },
  {
   "cell_type": "code",
   "execution_count": 47,
   "id": "8fec729c",
   "metadata": {},
   "outputs": [
    {
     "data": {
      "text/plain": [
       "2022-08-24   -0.564343\n",
       "2022-08-25    0.616011\n",
       "2022-08-26    0.187237\n",
       "Freq: D, dtype: float64"
      ]
     },
     "execution_count": 47,
     "metadata": {},
     "output_type": "execute_result"
    }
   ],
   "source": [
    "ts_pd.resample('D').apply(lambda x: np.sin(x[0]))"
   ]
  },
  {
   "cell_type": "code",
   "execution_count": 52,
   "id": "492ad7ed",
   "metadata": {},
   "outputs": [
    {
     "data": {
      "text/plain": [
       "<AxesSubplot:>"
      ]
     },
     "execution_count": 52,
     "metadata": {},
     "output_type": "execute_result"
    },
    {
     "data": {
      "image/png": "[encoded data removed]",
      "text/plain": [
       "<Figure size 1152x648 with 1 Axes>"
      ]
     },
     "metadata": {
      "needs_background": "light"
     },
     "output_type": "display_data"
    }
   ],
   "source": [
    "ts_pd.plot()"
   ]
  },
  {
   "cell_type": "code",
   "execution_count": null,
   "id": "30d4d11b",
   "metadata": {},
   "outputs": [],
   "source": []
  }
 ],
 "metadata": {
  "kernelspec": {
   "display_name": "Python 3",
   "language": "python",
   "name": "python3"
  },
  "language_info": {
   "codemirror_mode": {
    "name": "ipython",
    "version": 3
   },
   "file_extension": ".py",
   "mimetype": "text/x-python",
   "name": "python",
   "nbconvert_exporter": "python",
   "pygments_lexer": "ipython3",
   "version": "3.8.8"
  }
 },
 "nbformat": 4,
 "nbformat_minor": 5
}
