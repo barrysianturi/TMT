{
 "cells": [
  {
   "cell_type": "code",
   "execution_count": 4,
   "id": "c5a7f447",
   "metadata": {},
   "outputs": [
    {
     "name": "stdout",
     "output_type": "stream",
     "text": [
      "Requirement already satisfied: pandas in c:\\users\\barry\\anaconda3\\lib\\site-packages (1.2.4)\n",
      "Requirement already satisfied: pytz>=2017.3 in c:\\users\\barry\\anaconda3\\lib\\site-packages (from pandas) (2021.1)\n",
      "Requirement already satisfied: python-dateutil>=2.7.3 in c:\\users\\barry\\anaconda3\\lib\\site-packages (from pandas) (2.8.1)\n",
      "Requirement already satisfied: numpy>=1.16.5 in c:\\users\\barry\\anaconda3\\lib\\site-packages (from pandas) (1.22.4)\n",
      "Requirement already satisfied: six>=1.5 in c:\\users\\barry\\anaconda3\\lib\\site-packages (from python-dateutil>=2.7.3->pandas) (1.15.0)\n"
     ]
    }
   ],
   "source": [
    "!pip install pandas"
   ]
  },
  {
   "cell_type": "code",
   "execution_count": 1,
   "id": "5735ae8f",
   "metadata": {},
   "outputs": [],
   "source": [
    "import pandas as pd\n",
    "import numpy as np"
   ]
  },
  {
   "cell_type": "markdown",
   "id": "ea30f45e",
   "metadata": {},
   "source": [
    "# Generate series of times"
   ]
  },
  {
   "cell_type": "markdown",
   "id": "e56b92f5",
   "metadata": {},
   "source": [
    "http://pandas.pydata.org/pandas-docs/stable/generated/pandas.date_range.html"
   ]
  },
  {
   "cell_type": "code",
   "execution_count": 25,
   "id": "877ce102",
   "metadata": {},
   "outputs": [
    {
     "data": {
      "text/plain": [
       "DatetimeIndex(['2022-09-01', '2022-10-01', '2022-11-01', '2022-12-01',\n",
       "               '2023-01-01', '2023-02-01', '2023-03-01', '2023-04-01',\n",
       "               '2023-05-01', '2023-06-01', '2023-07-01', '2023-08-01',\n",
       "               '2023-09-01'],\n",
       "              dtype='datetime64[ns]', freq='MS')"
      ]
     },
     "execution_count": 25,
     "metadata": {},
     "output_type": "execute_result"
    }
   ],
   "source": [
    "#specify with start date & number of periods\n",
    "rng = pd.date_range('2022 Aug 24', '2023 Sept 20', freq=\"MS\")\n",
    "rng"
   ]
  },
  {
   "cell_type": "code",
   "execution_count": 32,
   "id": "af0f448e",
   "metadata": {},
   "outputs": [
    {
     "data": {
      "text/plain": [
       "DatetimeIndex(['2022-08-24 10:15:30.123456', '2022-08-25 10:15:30.123456',\n",
       "               '2022-08-26 10:15:30.123456', '2022-08-27 10:15:30.123456',\n",
       "               '2022-08-28 10:15:30.123456', '2022-08-29 10:15:30.123456',\n",
       "               '2022-08-30 10:15:30.123456', '2022-08-31 10:15:30.123456',\n",
       "               '2022-09-01 10:15:30.123456', '2022-09-02 10:15:30.123456'],\n",
       "              dtype='datetime64[ns]', freq='D')"
      ]
     },
     "execution_count": 32,
     "metadata": {},
     "output_type": "execute_result"
    }
   ],
   "source": [
    "rng = pd.date_range('2022 Aug 24 10:15:30.123456789',periods=10, freq=\"D\")\n",
    "rng"
   ]
  },
  {
   "cell_type": "code",
   "execution_count": 33,
   "id": "e09cc44b",
   "metadata": {},
   "outputs": [
    {
     "data": {
      "text/plain": [
       "Timestamp('2022-08-24 10:15:30.123456')"
      ]
     },
     "execution_count": 33,
     "metadata": {},
     "output_type": "execute_result"
    }
   ],
   "source": [
    "pd.Timestamp('2022 Aug 24 10:15:30.123456789')"
   ]
  },
  {
   "cell_type": "markdown",
   "id": "bafefd4c",
   "metadata": {},
   "source": [
    "#### Which of these formats don't work?"
   ]
  },
  {
   "cell_type": "markdown",
   "id": "bc81474f",
   "metadata": {},
   "source": [
    "- '2016 Jul 1'\n",
    "- '7/1/2016'\n",
    "- '1/7/2016'\n",
    "- 'July 1, 2016'\n",
    "- '2016-07-01'"
   ]
  },
  {
   "cell_type": "code",
   "execution_count": 41,
   "id": "48bf6270",
   "metadata": {},
   "outputs": [
    {
     "data": {
      "text/plain": [
       "Timestamp('2016-01-07 00:00:00')"
      ]
     },
     "execution_count": 41,
     "metadata": {},
     "output_type": "execute_result"
    }
   ],
   "source": [
    "rng = pd.to_datetime('7/1/2016',dayfirst=True)\n",
    "rng"
   ]
  },
  {
   "cell_type": "code",
   "execution_count": 42,
   "id": "57571639",
   "metadata": {},
   "outputs": [
    {
     "data": {
      "text/plain": [
       "Timestamp('2016-07-01 00:00:00')"
      ]
     },
     "execution_count": 42,
     "metadata": {},
     "output_type": "execute_result"
    }
   ],
   "source": [
    "rng = pd.to_datetime('7/1/2016')\n",
    "rng"
   ]
  },
  {
   "cell_type": "markdown",
   "id": "c619bb80",
   "metadata": {},
   "source": [
    "### Data type"
   ]
  },
  {
   "cell_type": "code",
   "execution_count": 44,
   "id": "89dca1fd",
   "metadata": {},
   "outputs": [
    {
     "data": {
      "text/plain": [
       "pandas.core.indexes.datetimes.DatetimeIndex"
      ]
     },
     "execution_count": 44,
     "metadata": {},
     "output_type": "execute_result"
    }
   ],
   "source": [
    "#specify with start date & number of periods\n",
    "rng = pd.date_range('2022 Aug 24', '2023 Sept 20', freq=\"MS\")\n",
    "type(rng)"
   ]
  },
  {
   "cell_type": "code",
   "execution_count": 46,
   "id": "6605e39c",
   "metadata": {},
   "outputs": [
    {
     "data": {
      "text/plain": [
       "pandas._libs.tslibs.timestamps.Timestamp"
      ]
     },
     "execution_count": 46,
     "metadata": {},
     "output_type": "execute_result"
    }
   ],
   "source": [
    "type(rng[0])"
   ]
  },
  {
   "cell_type": "code",
   "execution_count": 47,
   "id": "b8578f32",
   "metadata": {},
   "outputs": [
    {
     "data": {
      "text/plain": [
       "False"
      ]
     },
     "execution_count": 47,
     "metadata": {},
     "output_type": "execute_result"
    }
   ],
   "source": [
    "pd.to_datetime('02/08/2022',dayfirst=True) == pd.to_datetime('02/08/2022')"
   ]
  },
  {
   "cell_type": "code",
   "execution_count": 48,
   "id": "c9b17c91",
   "metadata": {},
   "outputs": [
    {
     "data": {
      "text/plain": [
       "False"
      ]
     },
     "execution_count": 48,
     "metadata": {},
     "output_type": "execute_result"
    }
   ],
   "source": [
    "pd.to_datetime('02-08-2022',dayfirst=True) == pd.to_datetime('02-08-2022')"
   ]
  },
  {
   "cell_type": "code",
   "execution_count": 49,
   "id": "b2ce495b",
   "metadata": {},
   "outputs": [
    {
     "data": {
      "text/plain": [
       "True"
      ]
     },
     "execution_count": 49,
     "metadata": {},
     "output_type": "execute_result"
    }
   ],
   "source": [
    "pd.to_datetime('2022-02-08',dayfirst=True) == pd.to_datetime('2022-02-08')"
   ]
  },
  {
   "cell_type": "code",
   "execution_count": 55,
   "id": "181d4996",
   "metadata": {},
   "outputs": [
    {
     "data": {
      "text/plain": [
       "DatetimeIndex(['2022-10-01', '2023-01-01', '2023-04-01', '2023-07-01',\n",
       "               '2023-10-01', '2024-01-01', '2024-04-01', '2024-07-01',\n",
       "               '2024-10-01', '2025-01-01'],\n",
       "              dtype='datetime64[ns]', freq='QS-JAN')"
      ]
     },
     "execution_count": 55,
     "metadata": {},
     "output_type": "execute_result"
    }
   ],
   "source": [
    "#specify with start date & number of periods\n",
    "rng = pd.date_range('2022/08/02',periods=10, freq=\"QS\")\n",
    "rng"
   ]
  },
  {
   "cell_type": "markdown",
   "id": "18d4634f",
   "metadata": {},
   "source": [
    "## Timestamps"
   ]
  },
  {
   "cell_type": "code",
   "execution_count": 52,
   "id": "6b909917",
   "metadata": {},
   "outputs": [
    {
     "data": {
      "text/plain": [
       "Timestamp('2022-08-24 00:00:00')"
      ]
     },
     "execution_count": 52,
     "metadata": {},
     "output_type": "execute_result"
    }
   ],
   "source": [
    "pd.Timestamp('24 August 2022')"
   ]
  },
  {
   "cell_type": "code",
   "execution_count": 54,
   "id": "16e2d365",
   "metadata": {},
   "outputs": [
    {
     "data": {
      "text/plain": [
       "Timestamp('2022-08-24 09:23:00.123456')"
      ]
     },
     "execution_count": 54,
     "metadata": {},
     "output_type": "execute_result"
    }
   ],
   "source": [
    "pd.Timestamp('24 August 2022 09:23:00.1234567')"
   ]
  },
  {
   "cell_type": "code",
   "execution_count": 59,
   "id": "8d2614b9",
   "metadata": {},
   "outputs": [
    {
     "data": {
      "text/plain": [
       "Timestamp('2022-08-24 00:00:00')"
      ]
     },
     "execution_count": 59,
     "metadata": {},
     "output_type": "execute_result"
    }
   ],
   "source": [
    "pd.Timestamp('24 August 2022')"
   ]
  },
  {
   "cell_type": "code",
   "execution_count": 66,
   "id": "8262d466",
   "metadata": {},
   "outputs": [
    {
     "data": {
      "text/plain": [
       "Timestamp('2022-02-02 10:10:20.001010')"
      ]
     },
     "execution_count": 66,
     "metadata": {},
     "output_type": "execute_result"
    }
   ],
   "source": [
    "pd.Timestamp(2022,2,2,10,10,20,1010)"
   ]
  },
  {
   "cell_type": "code",
   "execution_count": 67,
   "id": "b0e7df58",
   "metadata": {},
   "outputs": [],
   "source": [
    "d = pd.Timestamp(2022,2,2,10,10,20,1010)"
   ]
  },
  {
   "cell_type": "markdown",
   "id": "2b3cb8d2",
   "metadata": {},
   "source": [
    "#### How are timestamps lacking?"
   ]
  },
  {
   "cell_type": "markdown",
   "id": "03642d25",
   "metadata": {},
   "source": [
    "Timestamps are points in time however we are usually interested on having period of time for our analysis "
   ]
  },
  {
   "cell_type": "markdown",
   "id": "46f99364",
   "metadata": {},
   "source": [
    "### Time offsets"
   ]
  },
  {
   "cell_type": "code",
   "execution_count": 84,
   "id": "3507f343",
   "metadata": {},
   "outputs": [
    {
     "data": {
      "text/plain": [
       "Timedelta('30 days 04:00:00.000003')"
      ]
     },
     "execution_count": 84,
     "metadata": {},
     "output_type": "execute_result"
    }
   ],
   "source": [
    "pd.Timedelta('4W 2D 4H 3us')"
   ]
  },
  {
   "cell_type": "code",
   "execution_count": 87,
   "id": "bcd0b3cc",
   "metadata": {},
   "outputs": [
    {
     "data": {
      "text/plain": [
       "Timestamp('2022-08-24 08:30:00')"
      ]
     },
     "execution_count": 87,
     "metadata": {},
     "output_type": "execute_result"
    }
   ],
   "source": [
    "pd.Timestamp('2022-08-24 10:00') + pd.Timedelta('1.5 hours')"
   ]
  },
  {
   "cell_type": "code",
   "execution_count": 86,
   "id": "d1a861ca",
   "metadata": {},
   "outputs": [
    {
     "ename": "TypeError",
     "evalue": "unsupported operand type(s) for +: 'Timestamp' and 'Timestamp'",
     "output_type": "error",
     "traceback": [
      "\u001b[1;31m---------------------------------------------------------------------------\u001b[0m",
      "\u001b[1;31mTypeError\u001b[0m                                 Traceback (most recent call last)",
      "\u001b[1;32m<ipython-input-86-7be03fc7990e>\u001b[0m in \u001b[0;36m<module>\u001b[1;34m\u001b[0m\n\u001b[1;32m----> 1\u001b[1;33m \u001b[0mpd\u001b[0m\u001b[1;33m.\u001b[0m\u001b[0mTimestamp\u001b[0m\u001b[1;33m(\u001b[0m\u001b[1;34m'2022-08-24 10:00'\u001b[0m\u001b[1;33m)\u001b[0m \u001b[1;33m+\u001b[0m \u001b[0mpd\u001b[0m\u001b[1;33m.\u001b[0m\u001b[0mTimestamp\u001b[0m\u001b[1;33m(\u001b[0m\u001b[1;34m'2022-08-24 12:00'\u001b[0m\u001b[1;33m)\u001b[0m\u001b[1;33m\u001b[0m\u001b[1;33m\u001b[0m\u001b[0m\n\u001b[0m",
      "\u001b[1;31mTypeError\u001b[0m: unsupported operand type(s) for +: 'Timestamp' and 'Timestamp'"
     ]
    }
   ],
   "source": [
    "#we cannot add timestamps with timestamps\n",
    "pd.Timestamp('2022-08-24 10:00') + pd.Timestamp('2022-08-24 12:00') "
   ]
  },
  {
   "cell_type": "code",
   "execution_count": 91,
   "id": "59289897",
   "metadata": {},
   "outputs": [
    {
     "ename": "TypeError",
     "evalue": "unsupported operand type(s) for *: 'Timestamp' and 'int'",
     "output_type": "error",
     "traceback": [
      "\u001b[1;31m---------------------------------------------------------------------------\u001b[0m",
      "\u001b[1;31mTypeError\u001b[0m                                 Traceback (most recent call last)",
      "\u001b[1;32m<ipython-input-91-feb6b942746f>\u001b[0m in \u001b[0;36m<module>\u001b[1;34m\u001b[0m\n\u001b[1;32m----> 1\u001b[1;33m \u001b[0mpd\u001b[0m\u001b[1;33m.\u001b[0m\u001b[0mTimestamp\u001b[0m\u001b[1;33m(\u001b[0m\u001b[1;34m'2022-08-24 10:00:00.123456789'\u001b[0m\u001b[1;33m)\u001b[0m\u001b[1;33m*\u001b[0m\u001b[1;36m1000\u001b[0m\u001b[1;33m\u001b[0m\u001b[1;33m\u001b[0m\u001b[0m\n\u001b[0m",
      "\u001b[1;31mTypeError\u001b[0m: unsupported operand type(s) for *: 'Timestamp' and 'int'"
     ]
    }
   ],
   "source": [
    "#we also cannot operate timestamps with integers \n",
    "pd.Timestamp('2022-08-24 10:00:00.123456789')*1000"
   ]
  },
  {
   "cell_type": "code",
   "execution_count": 93,
   "id": "da5205ff",
   "metadata": {},
   "outputs": [
    {
     "data": {
      "text/plain": [
       "DatetimeIndex(['2022-08-24', '2022-08-25', '2022-08-26', '2022-08-27',\n",
       "               '2022-08-28', '2022-08-29', '2022-08-30', '2022-08-31',\n",
       "               '2022-09-01', '2022-09-02'],\n",
       "              dtype='datetime64[ns]', freq='D')"
      ]
     },
     "execution_count": 93,
     "metadata": {},
     "output_type": "execute_result"
    }
   ],
   "source": [
    "#specify with start date & number of periods\n",
    "rng = pd.date_range('2022/08/24',periods=10, freq=\"D\")\n",
    "rng"
   ]
  },
  {
   "cell_type": "code",
   "execution_count": 95,
   "id": "ef5fb4ab",
   "metadata": {},
   "outputs": [
    {
     "data": {
      "text/plain": [
       "DatetimeIndex(['2022-08-25', '2022-08-26', '2022-08-27', '2022-08-28',\n",
       "               '2022-08-29', '2022-08-30', '2022-08-31', '2022-09-01',\n",
       "               '2022-09-02', '2022-09-03'],\n",
       "              dtype='datetime64[ns]', freq='D')"
      ]
     },
     "execution_count": 95,
     "metadata": {},
     "output_type": "execute_result"
    }
   ],
   "source": [
    "rng + pd.Timedelta('1day')"
   ]
  },
  {
   "cell_type": "code",
   "execution_count": 99,
   "id": "2ad17ecf",
   "metadata": {},
   "outputs": [
    {
     "data": {
      "text/plain": [
       "array([14,  6,  7,  8])"
      ]
     },
     "execution_count": 99,
     "metadata": {},
     "output_type": "execute_result"
    }
   ],
   "source": [
    "#analogous to numpy array\n",
    "np.array([10,2,3,4]) + 4"
   ]
  },
  {
   "cell_type": "markdown",
   "id": "409187b0",
   "metadata": {},
   "source": [
    "### Time Period  "
   ]
  },
  {
   "cell_type": "code",
   "execution_count": 109,
   "id": "50dee3da",
   "metadata": {},
   "outputs": [
    {
     "data": {
      "text/plain": [
       "Period('2022-08-24 08:00', 'H')"
      ]
     },
     "execution_count": 109,
     "metadata": {},
     "output_type": "execute_result"
    }
   ],
   "source": [
    "tp = pd.Period('24 August 2022 08')\n",
    "tp"
   ]
  },
  {
   "cell_type": "code",
   "execution_count": 110,
   "id": "2d0c7f72",
   "metadata": {},
   "outputs": [
    {
     "data": {
      "text/plain": [
       "Timestamp('2022-08-24 08:00:00')"
      ]
     },
     "execution_count": 110,
     "metadata": {},
     "output_type": "execute_result"
    }
   ],
   "source": [
    "tp.start_time"
   ]
  },
  {
   "cell_type": "code",
   "execution_count": 111,
   "id": "52a51f6e",
   "metadata": {},
   "outputs": [
    {
     "data": {
      "text/plain": [
       "Timestamp('2022-08-24 08:59:59.999999999')"
      ]
     },
     "execution_count": 111,
     "metadata": {},
     "output_type": "execute_result"
    }
   ],
   "source": [
    "tp.end_time"
   ]
  },
  {
   "cell_type": "markdown",
   "id": "dc3dc5e8",
   "metadata": {},
   "source": [
    "#### How can you determine whether a timestamp falls within a given period?"
   ]
  },
  {
   "cell_type": "code",
   "execution_count": 113,
   "id": "3ebf7bc0",
   "metadata": {},
   "outputs": [],
   "source": [
    "ts = pd.Timestamp('24 Aug 2022')"
   ]
  },
  {
   "cell_type": "code",
   "execution_count": 138,
   "id": "e2eebc0a",
   "metadata": {},
   "outputs": [
    {
     "data": {
      "text/plain": [
       "Timestamp('2022-08-01 00:00:00')"
      ]
     },
     "execution_count": 138,
     "metadata": {},
     "output_type": "execute_result"
    }
   ],
   "source": [
    "tp = pd.Period('31 Aug 2022',freq='M')\n",
    "tp.start_time"
   ]
  },
  {
   "cell_type": "code",
   "execution_count": 131,
   "id": "23e0efdc",
   "metadata": {},
   "outputs": [
    {
     "data": {
      "text/plain": [
       "True"
      ]
     },
     "execution_count": 131,
     "metadata": {},
     "output_type": "execute_result"
    }
   ],
   "source": [
    "tp.start_time < ts < tp.end_time"
   ]
  },
  {
   "cell_type": "code",
   "execution_count": 134,
   "id": "f2d029d9",
   "metadata": {},
   "outputs": [
    {
     "data": {
      "text/plain": [
       "DatetimeIndex(['2022-08-24', '2022-08-25', '2022-08-26', '2022-08-27',\n",
       "               '2022-08-28', '2022-08-29', '2022-08-30', '2022-08-31',\n",
       "               '2022-09-01', '2022-09-02'],\n",
       "              dtype='datetime64[ns]', freq='D')"
      ]
     },
     "execution_count": 134,
     "metadata": {},
     "output_type": "execute_result"
    }
   ],
   "source": [
    "rng = pd.date_range('2022 Aug 24',periods=10,freq='D')\n",
    "rng"
   ]
  },
  {
   "cell_type": "code",
   "execution_count": 154,
   "id": "fde89ec4",
   "metadata": {},
   "outputs": [
    {
     "data": {
      "text/plain": [
       "PeriodIndex(['2022-08-24 12:00', '2022-08-24 13:00', '2022-08-24 14:00',\n",
       "             '2022-08-24 15:00', '2022-08-24 16:00', '2022-08-24 17:00',\n",
       "             '2022-08-24 18:00', '2022-08-24 19:00', '2022-08-24 20:00',\n",
       "             '2022-08-24 21:00'],\n",
       "            dtype='period[H]', freq='H')"
      ]
     },
     "execution_count": 154,
     "metadata": {},
     "output_type": "execute_result"
    }
   ],
   "source": [
    "rng = pd.period_range('2022 Aug 24 12:15',periods=10,freq='H')\n",
    "rng"
   ]
  },
  {
   "cell_type": "code",
   "execution_count": 155,
   "id": "f06c0893",
   "metadata": {},
   "outputs": [
    {
     "data": {
      "text/plain": [
       "PeriodIndex(['2022-08-24 12:15', '2022-08-24 13:15', '2022-08-24 14:15',\n",
       "             '2022-08-24 15:15', '2022-08-24 16:15', '2022-08-24 17:15',\n",
       "             '2022-08-24 18:15', '2022-08-24 19:15', '2022-08-24 20:15',\n",
       "             '2022-08-24 21:15'],\n",
       "            dtype='period[60T]', freq='60T')"
      ]
     },
     "execution_count": 155,
     "metadata": {},
     "output_type": "execute_result"
    }
   ],
   "source": [
    "rng = pd.period_range('2022 Aug 24 12:15',periods=10,freq='60T')\n",
    "rng"
   ]
  },
  {
   "cell_type": "code",
   "execution_count": 151,
   "id": "2171cc87",
   "metadata": {},
   "outputs": [
    {
     "data": {
      "text/plain": [
       "PeriodIndex(['2022-08-24 12:15', '2022-08-24 12:16', '2022-08-24 12:17',\n",
       "             '2022-08-24 12:18', '2022-08-24 12:19', '2022-08-24 12:20',\n",
       "             '2022-08-24 12:21', '2022-08-24 12:22', '2022-08-24 12:23',\n",
       "             '2022-08-24 12:24'],\n",
       "            dtype='period[T]', freq='T')"
      ]
     },
     "execution_count": 151,
     "metadata": {},
     "output_type": "execute_result"
    }
   ],
   "source": [
    "rng = pd.period_range('2022 Aug 24 12:15:30',periods=10,freq='T')\n",
    "rng"
   ]
  },
  {
   "cell_type": "code",
   "execution_count": 150,
   "id": "2b25460a",
   "metadata": {},
   "outputs": [
    {
     "data": {
      "text/plain": [
       "PeriodIndex(['2022-08-24 12:15:30', '2022-08-24 12:16:30',\n",
       "             '2022-08-24 12:17:30', '2022-08-24 12:18:30',\n",
       "             '2022-08-24 12:19:30', '2022-08-24 12:20:30',\n",
       "             '2022-08-24 12:21:30', '2022-08-24 12:22:30',\n",
       "             '2022-08-24 12:23:30', '2022-08-24 12:24:30'],\n",
       "            dtype='period[60S]', freq='60S')"
      ]
     },
     "execution_count": 150,
     "metadata": {},
     "output_type": "execute_result"
    }
   ],
   "source": [
    "rng = pd.period_range('2022 Aug 24 12:15:30',periods=10,freq='60S')\n",
    "rng"
   ]
  },
  {
   "cell_type": "code",
   "execution_count": 174,
   "id": "7ee8d29e",
   "metadata": {},
   "outputs": [
    {
     "data": {
      "text/plain": [
       "2022-08-24     0\n",
       "2022-08-25     1\n",
       "2022-08-26     2\n",
       "2022-08-27     3\n",
       "2022-08-28     4\n",
       "2022-08-29     5\n",
       "2022-08-30     6\n",
       "2022-08-31     7\n",
       "2022-09-01     8\n",
       "2022-09-02     9\n",
       "2022-09-03    10\n",
       "2022-09-04    11\n",
       "2022-09-05    12\n",
       "2022-09-06    13\n",
       "2022-09-07    14\n",
       "2022-09-08    15\n",
       "2022-09-09    16\n",
       "2022-09-10    17\n",
       "2022-09-11    18\n",
       "2022-09-12    19\n",
       "2022-09-13    20\n",
       "2022-09-14    21\n",
       "2022-09-15    22\n",
       "2022-09-16    23\n",
       "2022-09-17    24\n",
       "2022-09-18    25\n",
       "2022-09-19    26\n",
       "2022-09-20    27\n",
       "2022-09-21    28\n",
       "2022-09-22    29\n",
       "2022-09-23    30\n",
       "2022-09-24    31\n",
       "2022-09-25    32\n",
       "2022-09-26    33\n",
       "2022-09-27    34\n",
       "2022-09-28    35\n",
       "2022-09-29    36\n",
       "2022-09-30    37\n",
       "2022-10-01    38\n",
       "2022-10-02    39\n",
       "2022-10-03    40\n",
       "2022-10-04    41\n",
       "2022-10-05    42\n",
       "2022-10-06    43\n",
       "2022-10-07    44\n",
       "2022-10-08    45\n",
       "2022-10-09    46\n",
       "2022-10-10    47\n",
       "2022-10-11    48\n",
       "2022-10-12    49\n",
       "Freq: D, dtype: int64"
      ]
     },
     "execution_count": 174,
     "metadata": {},
     "output_type": "execute_result"
    }
   ],
   "source": [
    "num_periods=50\n",
    "ts_pd = pd.Series(range(num_periods),pd.period_range('2022 Aug 24 10:00',freq = 'D',periods=num_periods))\n",
    "ts_pd"
   ]
  },
  {
   "cell_type": "code",
   "execution_count": 186,
   "id": "1fdb4da1",
   "metadata": {},
   "outputs": [
    {
     "data": {
      "text/plain": [
       "2022-08-24     0\n",
       "2022-08-25     1\n",
       "2022-08-26     2\n",
       "2022-08-27     3\n",
       "2022-08-28     4\n",
       "2022-08-29     5\n",
       "2022-08-30     6\n",
       "2022-08-31     7\n",
       "2022-09-01     8\n",
       "2022-09-02     9\n",
       "2022-09-03    10\n",
       "2022-09-04    11\n",
       "2022-09-05    12\n",
       "2022-09-06    13\n",
       "2022-09-07    14\n",
       "2022-09-08    15\n",
       "2022-09-09    16\n",
       "2022-09-10    17\n",
       "2022-09-11    18\n",
       "2022-09-12    19\n",
       "2022-09-13    20\n",
       "2022-09-14    21\n",
       "2022-09-15    22\n",
       "2022-09-16    23\n",
       "2022-09-17    24\n",
       "2022-09-18    25\n",
       "2022-09-19    26\n",
       "2022-09-20    27\n",
       "2022-09-21    28\n",
       "2022-09-22    29\n",
       "2022-09-23    30\n",
       "2022-09-24    31\n",
       "2022-09-25    32\n",
       "2022-09-26    33\n",
       "2022-09-27    34\n",
       "2022-09-28    35\n",
       "2022-09-29    36\n",
       "2022-09-30    37\n",
       "Freq: D, dtype: int64"
      ]
     },
     "execution_count": 186,
     "metadata": {},
     "output_type": "execute_result"
    }
   ],
   "source": [
    "#pandas timestamp slicing is inclusive\n",
    "ts_pd['Aug 2022':'30 Sep 2022']"
   ]
  }
 ],
 "metadata": {
  "kernelspec": {
   "display_name": "Python 3",
   "language": "python",
   "name": "python3"
  },
  "language_info": {
   "codemirror_mode": {
    "name": "ipython",
    "version": 3
   },
   "file_extension": ".py",
   "mimetype": "text/x-python",
   "name": "python",
   "nbconvert_exporter": "python",
   "pygments_lexer": "ipython3",
   "version": "3.8.8"
  }
 },
 "nbformat": 4,
 "nbformat_minor": 5
}
